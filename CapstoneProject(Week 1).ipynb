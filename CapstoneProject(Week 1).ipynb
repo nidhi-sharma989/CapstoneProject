{
    "cells": [
        {
            "metadata": {
                "collapsed": true
            },
            "cell_type": "code",
            "source": "All the benefits of tourism tend to reflect on the employment opportunity which it gives to the people of that country.\nThe objective of this project is to analyze the tourist places of a given state in India and try to recommend the best \nlocation where they can open a restaurant or lodging to make the best use of the opportunity.\n\nThe target audience for this project include people who are interested in opening a restaurant, lodging, transport services\nor any other similar businesses which fall within the tourism industry..\n",
            "execution_count": null,
            "outputs": []
        },
        {
            "metadata": {},
            "cell_type": "code",
            "source": "Data Anatomization\nTo tackle the above mentioned problem, we need to have the dataset that contains\n1. All the districts of a particular country\n2. Latitude and longitudes of all the districts\n\nSource\nThe Wikipedia page https://en.wikipedia.org/wiki/List_of_districts_in_India is the major source of data that is being used \nto obtain all the districts of India. \nWe then use beautifulsoup4 package, a Python module that helps to scrape information \nfrom the web pages to extract all the tables from this Wikipedia page and convert it into a pandas dataframe. Then we use \nPython\u2019s geopy package to obtain the latitude and longitude of all the districts present in the dataframe.\nDescription of the data -\nThe output shows the final dataset . The dataset consists of a single Dataframe with 9 columns containing state, districts, latitude and longitudes of the particular district etc. Other columns like code, headquarters, population, area and density have also been scraped from the website which can be used for further analysis.\n",
            "execution_count": null,
            "outputs": []
        },
        {
            "metadata": {},
            "cell_type": "code",
            "source": "",
            "execution_count": null,
            "outputs": []
        }
    ],
    "metadata": {
        "kernelspec": {
            "name": "python3",
            "display_name": "Python 3.7",
            "language": "python"
        },
        "language_info": {
            "name": "python",
            "version": "3.7.10",
            "mimetype": "text/x-python",
            "codemirror_mode": {
                "name": "ipython",
                "version": 3
            },
            "pygments_lexer": "ipython3",
            "nbconvert_exporter": "python",
            "file_extension": ".py"
        }
    },
    "nbformat": 4,
    "nbformat_minor": 1
}